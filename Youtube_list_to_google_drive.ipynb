{
  "cells": [
    {
      "cell_type": "markdown",
      "metadata": {
        "id": "view-in-github",
        "colab_type": "text"
      },
      "source": [
        "<a href=\"https://colab.research.google.com/github/bluehat8/Youtube-list-to-google-drive/blob/main/Youtube_list_to_google_drive.ipynb\" target=\"_parent\"><img src=\"https://colab.research.google.com/assets/colab-badge.svg\" alt=\"Open In Colab\"/></a>"
      ]
    },
    {
      "cell_type": "code",
      "source": [
        "#Se debe instalar pytube para la descarga de videos de youtube\n",
        "!pip install pytube"
      ],
      "metadata": {
        "id": "2XJ2oWMQ5XH6",
        "outputId": "56de7014-f314-4e70-b493-f0578fe6fe9a",
        "colab": {
          "base_uri": "https://localhost:8080/"
        }
      },
      "execution_count": null,
      "outputs": [
        {
          "output_type": "stream",
          "name": "stdout",
          "text": [
            "Looking in indexes: https://pypi.org/simple, https://us-python.pkg.dev/colab-wheels/public/simple/\n",
            "Collecting pytube\n",
            "  Downloading pytube-12.1.2-py3-none-any.whl (57 kB)\n",
            "\u001b[K     |████████████████████████████████| 57 kB 2.6 MB/s \n",
            "\u001b[?25hInstalling collected packages: pytube\n",
            "Successfully installed pytube-12.1.2\n"
          ]
        }
      ]
    },
    {
      "cell_type": "code",
      "source": [
        "#Conectar con google drive\n",
        "from google.colab import drive\n",
        "drive.mount('/content/drive')"
      ],
      "metadata": {
        "id": "u1AV1p3m5hkI",
        "outputId": "a65ead3a-61e6-4baf-df74-5a902bd475a8",
        "colab": {
          "base_uri": "https://localhost:8080/"
        }
      },
      "execution_count": null,
      "outputs": [
        {
          "output_type": "stream",
          "name": "stdout",
          "text": [
            "Mounted at /content/drive\n"
          ]
        }
      ]
    },
    {
      "cell_type": "code",
      "source": [
        "#Importar librerías necesarias\n",
        "import requests\n",
        "import json\n",
        "import os\n",
        "from pytube import YouTube\n",
        "from pytube import Playlist"
      ],
      "metadata": {
        "id": "Q5fwr6L7d3is"
      },
      "execution_count": null,
      "outputs": []
    },
    {
      "cell_type": "code",
      "source": [
        "#Obtiene los enlaces de los vídeos de una lista de reproducción de YouTube.\n",
        "def obtener_enlaces(url):\n",
        "    # Crear un objeto Playlist con la URL de la lista de reproducción\n",
        "    playlist = Playlist(url)\n",
        "    # Obtener la lista de enlaces de los vídeos de la lista de reproducción\n",
        "    enlaces = playlist.video_urls\n",
        "\n",
        "    return enlaces"
      ],
      "metadata": {
        "id": "4s0EigNXf25-"
      },
      "execution_count": null,
      "outputs": []
    },
    {
      "cell_type": "code",
      "source": [
        "obtener_enlaces(\"https://www.youtube.com/playlist?list=PLh_je_3I3By6sloV2sMRE-7gx6WyoSFoo\")"
      ],
      "metadata": {
        "id": "-PhfrD9t0Ulv",
        "outputId": "e5234117-d867-41bb-bb05-d21d590a509a",
        "colab": {
          "base_uri": "https://localhost:8080/"
        }
      },
      "execution_count": null,
      "outputs": [
        {
          "output_type": "execute_result",
          "data": {
            "text/plain": [
              "['https://www.youtube.com/watch?v=yMzy-Dg4A_U', 'https://www.youtube.com/watch?v=KBq7M0Wm6Qw', 'https://www.youtube.com/watch?v=rRzAh0aQvrE', 'https://www.youtube.com/watch?v=6haNZeXq00A', 'https://www.youtube.com/watch?v=oVPsfw7OByc', 'https://www.youtube.com/watch?v=Yz7_7tIx4CU', 'https://www.youtube.com/watch?v=XPAxTfaRoMQ', 'https://www.youtube.com/watch?v=2oooH6cM5ec', 'https://www.youtube.com/watch?v=6aNjA95oNoM']"
            ]
          },
          "metadata": {},
          "execution_count": 31
        }
      ]
    },
    {
      "cell_type": "code",
      "source": [
        "def descargar_video(url, carpeta_destino):\n",
        "    # Crear un objeto YouTube con la URL del vídeo\n",
        "    yt = YouTube(url)\n",
        "    # Seleccionar el stream de video con la máxima resolución disponible\n",
        "    video = yt.streams.filter(progressive=True, file_extension='mp4').order_by('abr').desc().first()\n",
        "    # Crear la carpeta de destino si no existe\n",
        "    if not os.path.exists(carpeta_destino):\n",
        "        os.makedirs(carpeta_destino)\n",
        "    # Descargar el vídeo a la carpeta de destino\n",
        "    video.download(carpeta_destino)"
      ],
      "metadata": {
        "id": "uk_7UkJL5SZ0"
      },
      "execution_count": null,
      "outputs": []
    },
    {
      "cell_type": "code",
      "source": [
        "carpeta_destino=\"/content/drive/MyDrive/Videos pytube\"\n",
        "enlaces=obtener_enlaces(\"https://www.youtube.com/playlist?list=PLh_je_3I3By6sloV2sMRE-7gx6WyoSFoo\")"
      ],
      "metadata": {
        "id": "KVXjm0776s7T"
      },
      "execution_count": null,
      "outputs": []
    },
    {
      "cell_type": "code",
      "source": [
        "for i in range(len(enlaces)):\n",
        "  descargar_video(enlaces[i], carpeta_destino)"
      ],
      "metadata": {
        "id": "cVvnFOy26Mnt"
      },
      "execution_count": null,
      "outputs": []
    }
  ],
  "metadata": {
    "colab": {
      "provenance": [],
      "collapsed_sections": [
        "GEr-UWiugUaF"
      ],
      "include_colab_link": true
    },
    "kernelspec": {
      "display_name": "Python 3",
      "name": "python3"
    }
  },
  "nbformat": 4,
  "nbformat_minor": 0
}